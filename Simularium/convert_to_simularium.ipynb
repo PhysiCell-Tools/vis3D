{
 "cells": [
  {
   "cell_type": "markdown",
   "metadata": {},
   "source": [
    "# Simularium Conversion Tutorial : PhysiCell Data"
   ]
  },
  {
   "cell_type": "code",
   "execution_count": 1,
   "metadata": {},
   "outputs": [],
   "source": [
    "from IPython.display import Image\n",
    "import numpy as np\n",
    "from simulariumio.physicell import PhysicellConverter, PhysicellData\n",
    "from simulariumio import UnitData, MetaData, DisplayData, DISPLAY_TYPE, ModelMetaData"
   ]
  },
  {
   "cell_type": "markdown",
   "metadata": {},
   "source": [
    "This notebook provides example python code for converting your own simulation trajectories into the format consumed by the Simularium Viewer. It creates a .simularium JSON file which you can drag and drop onto the viewer at https://simularium.allencell.org/viewer"
   ]
  },
  {
   "cell_type": "markdown",
   "metadata": {},
   "source": [
    "![PhysiCell Covid model in Simularium](images/simularium_covid19.png)"
   ]
  },
  {
   "cell_type": "markdown",
   "metadata": {},
   "source": [
    "***\n",
    "## Prepare your spatial data"
   ]
  },
  {
   "cell_type": "markdown",
   "metadata": {},
   "source": [
    "The Simularium `PhysicellConverter` consumes discrete cell data from PhysiCell. \n",
    "\n",
    "The converter requires a `PhysicellData` object as a parameter ([see documentation](https://simularium.github.io/simulariumio/simulariumio.physicell.html#simulariumio.physicell.physicell_data.PhysicellData)).\n",
    "\n",
    "If you'd like to specify PDB or OBJ files or color for rendering an agent type, add a `DisplayData` object for that agent type, as shown below ([see documentation](https://simularium.github.io/simulariumio/simulariumio.data_objects.html#module-simulariumio.data_objects.display_data)).\n"
   ]
  },
  {
   "cell_type": "code",
   "execution_count": 2,
   "metadata": {},
   "outputs": [],
   "source": [
    "example_data = PhysicellData(\n",
    "    timestep=360.0,\n",
    "    path_to_output_dir=\"data/interaction_model/\",\n",
    "    meta_data=MetaData(\n",
    "        box_size=np.array([1000.0, 1000.0, 100.0]),\n",
    "        scale_factor=0.01,\n",
    "        trajectory_title=\"Some parameter set\",\n",
    "        model_meta_data=ModelMetaData(\n",
    "            title=\"Some agent-based model\",\n",
    "            version=\"8.1\",\n",
    "            authors=\"A Modeler\",\n",
    "            description=(\n",
    "                \"A PhysiCell model run with some parameter set\"\n",
    "            ),\n",
    "            doi=\"10.1016/j.bpj.2016.02.002\",\n",
    "            source_code_url=\"https://github.com/allen-cell-animated/simulariumio\",\n",
    "            source_code_license_url=\"https://github.com/allen-cell-animated/simulariumio/blob/main/LICENSE\",\n",
    "            input_data_url=\"https://allencell.org/path/to/native/engine/input/files\",\n",
    "            raw_output_data_url=\"https://allencell.org/path/to/native/engine/output/files\",\n",
    "        ),\n",
    "    ),\n",
    "    nth_timestep_to_read=1,\n",
    "    display_data={\n",
    "        0: DisplayData(\n",
    "            name=\"tumor cell\",\n",
    "            display_type=DISPLAY_TYPE.OBJ,\n",
    "            url=\"tumor_cell.obj\",\n",
    "            color=\"#dfdacd\",\n",
    "        ),\n",
    "        1: DisplayData(\n",
    "            name=\"motile tumor cell\",\n",
    "            color=\"#0080ff\",\n",
    "        ),\n",
    "    },\n",
    "    phase_names={\n",
    "        0: {\n",
    "            14: \"G0G1\",\n",
    "            100: \"Apoptotic\"\n",
    "        },\n",
    "        1: {14: \"G0G1\"},\n",
    "    },\n",
    "    time_units=UnitData(\"s\"),  # seconds\n",
    ")"
   ]
  },
  {
   "cell_type": "markdown",
   "metadata": {},
   "source": [
    "## Convert and save as .simularium JSON file"
   ]
  },
  {
   "cell_type": "markdown",
   "metadata": {},
   "source": [
    "Once your data is shaped like in the `example_data` object, you can use the converter to generate the file at the given path:"
   ]
  },
  {
   "cell_type": "code",
   "execution_count": 3,
   "metadata": {},
   "outputs": [
    {
     "name": "stdout",
     "output_type": "stream",
     "text": [
      "Reading PhysiCell Data -------------\n",
      "Reading data/interaction_model/output00000000.xml\n",
      "Reading data/interaction_model/initial_mesh0.mat\n",
      "Reading data/interaction_model/output00000000_cells.mat\n",
      "Reading data/interaction_model/output00000001.xml\n",
      "Reading data/interaction_model/initial_mesh0.mat\n",
      "Reading data/interaction_model/output00000001_cells.mat\n",
      "Reading data/interaction_model/output00000002.xml\n",
      "Reading data/interaction_model/initial_mesh0.mat\n",
      "Reading data/interaction_model/output00000002_cells.mat\n",
      "Reading data/interaction_model/output00000003.xml\n",
      "Reading data/interaction_model/initial_mesh0.mat\n",
      "Reading data/interaction_model/output00000003_cells.mat\n",
      "Reading data/interaction_model/output00000004.xml\n",
      "Reading data/interaction_model/initial_mesh0.mat\n",
      "Reading data/interaction_model/output00000004_cells.mat\n",
      "Reading data/interaction_model/output00000005.xml\n",
      "Reading data/interaction_model/initial_mesh0.mat\n",
      "Reading data/interaction_model/output00000005_cells.mat\n",
      "Reading data/interaction_model/output00000006.xml\n",
      "Reading data/interaction_model/initial_mesh0.mat\n",
      "Reading data/interaction_model/output00000006_cells.mat\n",
      "Reading data/interaction_model/output00000007.xml\n",
      "Reading data/interaction_model/initial_mesh0.mat\n",
      "Reading data/interaction_model/output00000007_cells.mat\n",
      "Reading data/interaction_model/output00000008.xml\n",
      "Reading data/interaction_model/initial_mesh0.mat\n",
      "Reading data/interaction_model/output00000008_cells.mat\n",
      "Reading data/interaction_model/output00000009.xml\n",
      "Reading data/interaction_model/initial_mesh0.mat\n",
      "Reading data/interaction_model/output00000009_cells.mat\n",
      "Reading data/interaction_model/output00000010.xml\n",
      "Reading data/interaction_model/initial_mesh0.mat\n",
      "Reading data/interaction_model/output00000010_cells.mat\n",
      "Reading data/interaction_model/output00000011.xml\n",
      "Reading data/interaction_model/initial_mesh0.mat\n",
      "Reading data/interaction_model/output00000011_cells.mat\n",
      "Reading data/interaction_model/output00000012.xml\n",
      "Reading data/interaction_model/initial_mesh0.mat\n",
      "Reading data/interaction_model/output00000012_cells.mat\n",
      "Reading data/interaction_model/output00000013.xml\n",
      "Reading data/interaction_model/initial_mesh0.mat\n",
      "Reading data/interaction_model/output00000013_cells.mat\n",
      "Reading data/interaction_model/output00000014.xml\n",
      "Reading data/interaction_model/initial_mesh0.mat\n",
      "Reading data/interaction_model/output00000014_cells.mat\n",
      "Reading data/interaction_model/output00000015.xml\n",
      "Reading data/interaction_model/initial_mesh0.mat\n",
      "Reading data/interaction_model/output00000015_cells.mat\n",
      "Reading data/interaction_model/output00000016.xml\n",
      "Reading data/interaction_model/initial_mesh0.mat\n",
      "Reading data/interaction_model/output00000016_cells.mat\n",
      "Reading data/interaction_model/output00000017.xml\n",
      "Reading data/interaction_model/initial_mesh0.mat\n",
      "Reading data/interaction_model/output00000017_cells.mat\n",
      "Reading data/interaction_model/output00000018.xml\n",
      "Reading data/interaction_model/initial_mesh0.mat\n",
      "Reading data/interaction_model/output00000018_cells.mat\n",
      "Reading data/interaction_model/output00000019.xml\n",
      "Reading data/interaction_model/initial_mesh0.mat\n",
      "Reading data/interaction_model/output00000019_cells.mat\n",
      "Reading data/interaction_model/output00000020.xml\n",
      "Reading data/interaction_model/initial_mesh0.mat\n",
      "Reading data/interaction_model/output00000020_cells.mat\n",
      "Converting Trajectory Data to Binary -------------\n",
      "Writing Binary -------------\n",
      "saved to interaction_model.simularium\n"
     ]
    }
   ],
   "source": [
    "PhysicellConverter(example_data).save(\"interaction_model\")"
   ]
  },
  {
   "cell_type": "markdown",
   "metadata": {},
   "source": [
    "## Visualize in the Simularium viewer"
   ]
  },
  {
   "cell_type": "markdown",
   "metadata": {},
   "source": [
    "In a supported web-browser (Firefox or Chrome), navigate to https://simularium.allencell.org/ and import your file into the view."
   ]
  },
  {
   "cell_type": "code",
   "execution_count": null,
   "metadata": {},
   "outputs": [],
   "source": []
  }
 ],
 "metadata": {
  "kernelspec": {
   "display_name": "Python 3 (ipykernel)",
   "language": "python",
   "name": "python3"
  },
  "language_info": {
   "codemirror_mode": {
    "name": "ipython",
    "version": 3
   },
   "file_extension": ".py",
   "mimetype": "text/x-python",
   "name": "python",
   "nbconvert_exporter": "python",
   "pygments_lexer": "ipython3",
   "version": "3.8.13"
  }
 },
 "nbformat": 4,
 "nbformat_minor": 4
}
